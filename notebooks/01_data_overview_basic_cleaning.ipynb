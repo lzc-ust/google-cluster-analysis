{
 "cells": [
  {
   "cell_type": "markdown",
   "metadata": {},
   "source": [
    "### 1. 环境准备"
   ]
  },
  {
   "cell_type": "code",
   "execution_count": 4,
   "metadata": {},
   "outputs": [],
   "source": [
    "# 加载自定义模块路径\n",
    "import sys\n",
    "import os\n",
    "sys.path.append(os.path.abspath(\"..\"))"
   ]
  },
  {
   "cell_type": "code",
   "execution_count": 5,
   "metadata": {},
   "outputs": [
    {
     "name": "stdout",
     "output_type": "stream",
     "text": [
      "The autoreload extension is already loaded. To reload it, use:\n",
      "  %reload_ext autoreload\n"
     ]
    }
   ],
   "source": [
    "# Jupyter Magic\n",
    "%load_ext autoreload\n",
    "%autoreload 2"
   ]
  },
  {
   "cell_type": "code",
   "execution_count": 6,
   "metadata": {},
   "outputs": [
    {
     "name": "stdout",
     "output_type": "stream",
     "text": [
      "Spark Session created.\n"
     ]
    }
   ],
   "source": [
    "# Import basic libraries\n",
    "from pyspark.sql import SparkSession\n",
    "\n",
    "# Initialize Spark session\n",
    "spark = SparkSession.builder \\\n",
    "    .appName(\"GoogleClusterAnalysis\") \\\n",
    "    .getOrCreate()\n",
    "\n",
    "print(\"Spark Session created.\")"
   ]
  },
  {
   "cell_type": "markdown",
   "metadata": {},
   "source": [
    "### 2. 加载原始数据"
   ]
  },
  {
   "cell_type": "code",
   "execution_count": 7,
   "metadata": {},
   "outputs": [
    {
     "name": "stdout",
     "output_type": "stream",
     "text": [
      "Data loaded successfully!\n"
     ]
    }
   ],
   "source": [
    "# Import custom modules\n",
    "from src.data_loader import load_data\n",
    "\n",
    "# Load data\n",
    "data_path = \"../data/borg_traces_data.csv\"  # Adjust path if needed\n",
    "df = load_data(spark, data_path)\n",
    "\n",
    "print(\"Data loaded successfully!\")"
   ]
  },
  {
   "cell_type": "markdown",
   "metadata": {},
   "source": [
    "### 3. 初步探索"
   ]
  },
  {
   "cell_type": "code",
   "execution_count": 8,
   "metadata": {},
   "outputs": [
    {
     "name": "stdout",
     "output_type": "stream",
     "text": [
      "\n",
      "Columns in the dataset:\n",
      "['_c0', 'time', 'instance_events_type', 'collection_id', 'scheduling_class', 'collection_type', 'priority', 'alloc_collection_id', 'instance_index', 'machine_id', 'resource_request', 'constraint', 'collections_events_type', 'user', 'collection_name', 'collection_logical_name', 'start_after_collection_ids', 'vertical_scaling', 'scheduler', 'start_time', 'end_time', 'average_usage', 'maximum_usage', 'random_sample_usage', 'assigned_memory', 'page_cache_memory', 'cycles_per_instruction', 'memory_accesses_per_instruction', 'sample_rate', 'cpu_usage_distribution', 'tail_cpu_usage_distribution', 'cluster', 'event', 'failed']\n",
      "\n",
      "Sample data:\n",
      "+--------------------+--------------------+--------------------+-------------+----------------+---------------+--------+-------------------+--------------+----------------+--------------------+----------+-----------------------+--------------------+--------------------+-----------------------+--------------------------+----------------+---------+-----------+-------------+--------------------+--------------------+--------------------+-----------------+-----------------+----------------------+-------------------------------+-----------+----------------------+---------------------------+-------+-----+------+\n",
      "|                 _c0|                time|instance_events_type|collection_id|scheduling_class|collection_type|priority|alloc_collection_id|instance_index|      machine_id|    resource_request|constraint|collections_events_type|                user|     collection_name|collection_logical_name|start_after_collection_ids|vertical_scaling|scheduler| start_time|     end_time|       average_usage|       maximum_usage| random_sample_usage|  assigned_memory|page_cache_memory|cycles_per_instruction|memory_accesses_per_instruction|sample_rate|cpu_usage_distribution|tail_cpu_usage_distribution|cluster|event|failed|\n",
      "+--------------------+--------------------+--------------------+-------------+----------------+---------------+--------+-------------------+--------------+----------------+--------------------+----------+-----------------------+--------------------+--------------------+-----------------------+--------------------------+----------------+---------+-----------+-------------+--------------------+--------------------+--------------------+-----------------+-----------------+----------------------+-------------------------------+-----------+----------------------+---------------------------+-------+-----+------+\n",
      "|                   0|                   0|                   2|  94591244395|               3|              1|     200|                  0|         144.0|1.68846390496E11|{'cpus': 0.020660...|        []|                      2|fn8Ve4Tdl/FVVvwXF...|Hzsv/gF8CPQXdqpsf...|   YCuhYrnORLiUh9WGL...|                        []|             1.0|      0.0|   2.748E11| 275100000000|{'cpus': 0.004661...|{'cpus': 0.011901...|{'cpus': 0.004348...|0.014434814453125|4.148483276367E-4|                  NULL|                           NULL|        1.0|  [0.00314331 0.003...|                       NULL|   NULL| NULL|  NULL|\n",
      "| 0.00463104 0.004...|[0.00535583 0.005...|                NULL|         NULL|            NULL|           NULL|    NULL|               NULL|          NULL|            NULL|                NULL|      NULL|                   NULL|                NULL|                NULL|                   NULL|                      NULL|            NULL|     NULL|       NULL|         NULL|                NULL|                NULL|                NULL|             NULL|             NULL|                  NULL|                           NULL|       NULL|                  NULL|                       NULL|   NULL| NULL|  NULL|\n",
      "| 0.00687408 0.009...|                   7|                FAIL|            1|            NULL|           NULL|    NULL|               NULL|          NULL|            NULL|                NULL|      NULL|                   NULL|                NULL|                NULL|                   NULL|                      NULL|            NULL|     NULL|       NULL|         NULL|                NULL|                NULL|                NULL|             NULL|             NULL|                  NULL|                           NULL|       NULL|                  NULL|                       NULL|   NULL| NULL|  NULL|\n",
      "|                   1|       2517305308183|                   2| 260697606809|               2|              0|     360|       221495397286|         335.0|     8.5515092E7|{'cpus': 0.007240...|        []|                      2|DrrEIEWkWuW7RrZwp...|hDGffcrF/rhQQEG8U...|   wcRcAMuop2OqH9EW4...|                        []|             2.0|      0.0|1.800713E12|1800714000000|{'cpus': 0.0, 'me...|{'cpus': 0.0, 'me...|{'cpus': 0.0, 'me...|              0.0|              0.0|                  NULL|                           NULL|        1.0|  [1.23977661e-05 1...|                       NULL|   NULL| NULL|  NULL|\n",
      "| 1.23977661e-05 1...|                NULL|                NULL|         NULL|            NULL|           NULL|    NULL|               NULL|          NULL|            NULL|                NULL|      NULL|                   NULL|                NULL|                NULL|                   NULL|                      NULL|            NULL|     NULL|       NULL|         NULL|                NULL|                NULL|                NULL|             NULL|             NULL|                  NULL|                           NULL|       NULL|                  NULL|                       NULL|   NULL| NULL|  NULL|\n",
      "+--------------------+--------------------+--------------------+-------------+----------------+---------------+--------+-------------------+--------------+----------------+--------------------+----------+-----------------------+--------------------+--------------------+-----------------------+--------------------------+----------------+---------+-----------+-------------+--------------------+--------------------+--------------------+-----------------+-----------------+----------------------+-------------------------------+-----------+----------------------+---------------------------+-------+-----+------+\n",
      "only showing top 5 rows\n",
      "\n",
      "\n",
      "Schema:\n",
      "root\n",
      " |-- _c0: string (nullable = true)\n",
      " |-- time: string (nullable = true)\n",
      " |-- instance_events_type: string (nullable = true)\n",
      " |-- collection_id: long (nullable = true)\n",
      " |-- scheduling_class: string (nullable = true)\n",
      " |-- collection_type: string (nullable = true)\n",
      " |-- priority: string (nullable = true)\n",
      " |-- alloc_collection_id: string (nullable = true)\n",
      " |-- instance_index: double (nullable = true)\n",
      " |-- machine_id: double (nullable = true)\n",
      " |-- resource_request: string (nullable = true)\n",
      " |-- constraint: string (nullable = true)\n",
      " |-- collections_events_type: string (nullable = true)\n",
      " |-- user: string (nullable = true)\n",
      " |-- collection_name: string (nullable = true)\n",
      " |-- collection_logical_name: string (nullable = true)\n",
      " |-- start_after_collection_ids: string (nullable = true)\n",
      " |-- vertical_scaling: double (nullable = true)\n",
      " |-- scheduler: double (nullable = true)\n",
      " |-- start_time: double (nullable = true)\n",
      " |-- end_time: string (nullable = true)\n",
      " |-- average_usage: string (nullable = true)\n",
      " |-- maximum_usage: string (nullable = true)\n",
      " |-- random_sample_usage: string (nullable = true)\n",
      " |-- assigned_memory: double (nullable = true)\n",
      " |-- page_cache_memory: double (nullable = true)\n",
      " |-- cycles_per_instruction: double (nullable = true)\n",
      " |-- memory_accesses_per_instruction: double (nullable = true)\n",
      " |-- sample_rate: double (nullable = true)\n",
      " |-- cpu_usage_distribution: string (nullable = true)\n",
      " |-- tail_cpu_usage_distribution: string (nullable = true)\n",
      " |-- cluster: integer (nullable = true)\n",
      " |-- event: string (nullable = true)\n",
      " |-- failed: integer (nullable = true)\n",
      "\n"
     ]
    }
   ],
   "source": [
    "# 查看列名\n",
    "print(\"\\nColumns in the dataset:\")\n",
    "print(df.columns)\n",
    "\n",
    "# 查看前几行数据\n",
    "print(\"\\nSample data:\")\n",
    "df.show(5)\n",
    "\n",
    "# 查看字段类型\n",
    "print(\"\\nSchema:\")\n",
    "df.printSchema()"
   ]
  },
  {
   "cell_type": "markdown",
   "metadata": {},
   "source": [
    "### 4. 数据清洗"
   ]
  },
  {
   "cell_type": "code",
   "execution_count": 9,
   "metadata": {},
   "outputs": [
    {
     "name": "stdout",
     "output_type": "stream",
     "text": [
      "\n",
      "Data cleaning and feature engineering completed!\n",
      "\n",
      "Cleaned data columns:\n",
      "['_c0', 'time', 'instance_events_type', 'collection_id', 'scheduling_class', 'collection_type', 'priority', 'alloc_collection_id', 'instance_index', 'machine_id', 'resource_request', 'constraint', 'collections_events_type', 'user', 'collection_name', 'collection_logical_name', 'start_after_collection_ids', 'vertical_scaling', 'scheduler', 'start_time', 'end_time', 'average_usage', 'maximum_usage', 'random_sample_usage', 'assigned_memory', 'page_cache_memory', 'cycles_per_instruction', 'memory_accesses_per_instruction', 'sample_rate', 'cpu_usage_distribution', 'tail_cpu_usage_distribution', 'cluster', 'event', 'failed', 'requested_cpus', 'used_average_cpus', 'used_maximum_cpus', 'resource_efficiency', 'queueing_delay', 'run_duration']\n",
      "+-----------------+-----------+-----------+-------------+-------------------+-------------------+-------------------+-----------------+------------+------+\n",
      "|             time| start_time|   end_time|collection_id|     requested_cpus|  used_average_cpus|resource_efficiency|   queueing_delay|run_duration|failed|\n",
      "+-----------------+-----------+-----------+-------------+-------------------+-------------------+-------------------+-----------------+------------+------+\n",
      "|              0.0|   2.748E11|   2.751E11|  94591244395|  0.020660400390625|0.00466156005859375|0.22562776957163957|         2.748E11|       3.0E8|     0|\n",
      "|             NULL|       NULL|       NULL|         NULL|               NULL|               NULL|                0.0|             NULL|        NULL|     0|\n",
      "|              7.0|       NULL|       NULL|            1|               NULL|               NULL|                0.0|             NULL|        NULL|     0|\n",
      "|2.517305308183E12|1.800713E12|1.800714E12| 260697606809|0.00724029541015625|                0.0|                0.0|-7.16592308183E11|   1000000.0|     0|\n",
      "|             NULL|       NULL|       NULL|         NULL|               NULL|               NULL|                0.0|             NULL|        NULL|     0|\n",
      "+-----------------+-----------+-----------+-------------+-------------------+-------------------+-------------------+-----------------+------------+------+\n",
      "only showing top 5 rows\n",
      "\n"
     ]
    }
   ],
   "source": [
    "# Import new preprocessing module\n",
    "from src.feature_engineering import clean_and_engineer_features\n",
    "\n",
    "# Perform full cleaning and feature engineering\n",
    "df_clean = clean_and_engineer_features(df)\n",
    "\n",
    "print(\"\\nData cleaning and feature engineering completed!\")\n",
    "\n",
    "# 查看清洗后的字段\n",
    "print(\"\\nCleaned data columns:\")\n",
    "print(df_clean.columns)\n",
    "\n",
    "# 查看部分清洗后数据\n",
    "df_clean.select(\n",
    "    \"time\", \"start_time\", \"end_time\", \"collection_id\", \n",
    "    \"requested_cpus\", \"used_average_cpus\", \"resource_efficiency\", \n",
    "    \"queueing_delay\", \"run_duration\", \"failed\"\n",
    ").show(5)"
   ]
  },
  {
   "cell_type": "markdown",
   "metadata": {},
   "source": [
    "### 5. 保存清洗后的数据"
   ]
  },
  {
   "cell_type": "code",
   "execution_count": 10,
   "metadata": {},
   "outputs": [
    {
     "name": "stdout",
     "output_type": "stream",
     "text": [
      "\n",
      "Data preparation completed. Ready for further analysis!\n"
     ]
    }
   ],
   "source": [
    "df_clean.write.mode('overwrite').parquet(\"../data/cleaned_borg_data.parquet\")\n",
    "\n",
    "print(\"\\nData preparation completed. Ready for further analysis!\")"
   ]
  }
 ],
 "metadata": {
  "kernelspec": {
   "display_name": "cluster-analysis",
   "language": "python",
   "name": "python3"
  },
  "language_info": {
   "codemirror_mode": {
    "name": "ipython",
    "version": 3
   },
   "file_extension": ".py",
   "mimetype": "text/x-python",
   "name": "python",
   "nbconvert_exporter": "python",
   "pygments_lexer": "ipython3",
   "version": "3.9.21"
  }
 },
 "nbformat": 4,
 "nbformat_minor": 2
}
